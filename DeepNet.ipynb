{
 "cells": [
  {
   "cell_type": "code",
   "execution_count": 1,
   "metadata": {},
   "outputs": [],
   "source": [
    "import tensorflow as tf\n",
    "from tensorflow.examples.tutorials.mnist import input_data\n",
    "logPath = \"./tb_logs\""
   ]
  },
  {
   "cell_type": "code",
   "execution_count": 2,
   "metadata": {},
   "outputs": [],
   "source": [
    "def variable_summaries(var):\n",
    "    with tf.name_scope('summaries'):\n",
    "        mean = tf.reduce_mean(var)\n",
    "        tf.summary.scalar('mean', mean)\n",
    "        with tf.name_scope('stddev'):\n",
    "            stddev = tf.sqrt(tf.reduce_mean(tf.square(var - mean)))\n",
    "        tf.summary.scalar('stddev', stddev)\n",
    "        tf.summary.scalar('max', tf.reduce_max(var))\n",
    "        tf.summary.scalar('min', tf.reduce_min(var))\n",
    "        tf.summary.histogram('histogram', var)"
   ]
  },
  {
   "cell_type": "code",
   "execution_count": 3,
   "metadata": {},
   "outputs": [
    {
     "name": "stdout",
     "output_type": "stream",
     "text": [
      "Extracting MNIST_data/train-images-idx3-ubyte.gz\n",
      "Extracting MNIST_data/train-labels-idx1-ubyte.gz\n",
      "Extracting MNIST_data/t10k-images-idx3-ubyte.gz\n",
      "Extracting MNIST_data/t10k-labels-idx1-ubyte.gz\n"
     ]
    }
   ],
   "source": [
    "mnist = input_data.read_data_sets(\"MNIST_data/\", one_hot=True)"
   ]
  },
  {
   "cell_type": "code",
   "execution_count": 4,
   "metadata": {},
   "outputs": [],
   "source": [
    "sess = tf.InteractiveSession()"
   ]
  },
  {
   "cell_type": "code",
   "execution_count": 5,
   "metadata": {},
   "outputs": [],
   "source": [
    "with tf.name_scope(\"MNIST_Input\"):\n",
    "    x = tf.placeholder(tf.float32, shape=[None,784], name=\"x\")\n",
    "    y_ = tf.placeholder(tf.float32, [None, 10], name=\"y_\")\n",
    "    \n",
    "with tf.name_scope(\"Input_Reshape\"):\n",
    "    x_image = tf.reshape(x, [-1,28,28,1], name=\"x_image\")\n",
    "    tf.summary.image('input_img', x_image, 5)"
   ]
  },
  {
   "cell_type": "code",
   "execution_count": 6,
   "metadata": {},
   "outputs": [],
   "source": [
    "def weight_variable(shape, name=None):\n",
    "    initial = tf.truncated_normal(shape, stddev=0.1)\n",
    "    return tf.Variable(initial, name=name)\n",
    "\n",
    "def bias_variable(shape, name=None):\n",
    "    initial = tf.constant(0.1, shape=shape)\n",
    "    return tf.Variable(initial, name=name)"
   ]
  },
  {
   "cell_type": "code",
   "execution_count": 7,
   "metadata": {},
   "outputs": [],
   "source": [
    "def conv2d(x, W, name=None):\n",
    "    return tf.nn.conv2d(x, W, strides=[1, 1, 1, 1], padding='SAME',name=name)\n",
    "\n",
    "def max_pool_2x2(x, name=None):\n",
    "    return tf.nn.max_pool(x, ksize=[1, 2, 2, 1],\n",
    "                        strides=[1, 2, 2, 1], padding='SAME', name=name)"
   ]
  },
  {
   "cell_type": "code",
   "execution_count": 8,
   "metadata": {},
   "outputs": [],
   "source": [
    "# 1st Convolution layer\n",
    "with tf.name_scope('Conv1'):\n",
    "    # 32 features for each 5X5 patch of the image\n",
    "    with tf.name_scope('weights'):\n",
    "        W_conv1 = weight_variable([5, 5, 1, 32], name=\"weight\")\n",
    "        variable_summaries(W_conv1)\n",
    "    with tf.name_scope('biases'):\n",
    "        b_conv1 = bias_variable([32], name=\"bias\")\n",
    "        variable_summaries(b_conv1)\n",
    "    # Do convolution on images, add bias and push through RELU activation\n",
    "    conv1_wx_b = conv2d(x_image, W_conv1,name=\"conv2d\") + b_conv1\n",
    "    tf.summary.histogram('conv1_wx_b', conv1_wx_b)\n",
    "    h_conv1 = tf.nn.relu(conv1_wx_b, name=\"relu\")\n",
    "    tf.summary.histogram('h_conv1', h_conv1)\n",
    "    # take results and run through max_pool\n",
    "    h_pool1 = max_pool_2x2(h_conv1, name=\"pool\")\n"
   ]
  },
  {
   "cell_type": "code",
   "execution_count": 9,
   "metadata": {},
   "outputs": [],
   "source": [
    "# 2nd Convolution layer\n",
    "with tf.name_scope('Conv2'):\n",
    "# Process the 32 features from Convolution layer 1, in 5 X 5 patch.  return 64 features weights and biases\n",
    "    with tf.name_scope('weights'):\n",
    "        W_conv2 = weight_variable([5, 5, 32, 64], name=\"weight\")\n",
    "        variable_summaries(W_conv2)\n",
    "    with tf.name_scope('biases'):\n",
    "        b_conv2 = bias_variable([64], name=\"bias\")\n",
    "        variable_summaries(b_conv2)\n",
    "    # Do convolution of the output of the 1st convolution layer.  Pool results \n",
    "    conv2_wx_b = conv2d(h_pool1, W_conv2, name=\"conv2d\") + b_conv2\n",
    "    tf.summary.histogram('conv2_wx_b', conv2_wx_b)\n",
    "    h_conv2 = tf.nn.relu(conv2_wx_b, name=\"relu\")\n",
    "    tf.summary.histogram('h_conv2', h_conv2)\n",
    "    h_pool2 = max_pool_2x2(h_conv2, name=\"pool\")"
   ]
  },
  {
   "cell_type": "code",
   "execution_count": 10,
   "metadata": {},
   "outputs": [],
   "source": [
    "with tf.name_scope('FC'):\n",
    "    # Fully Connected Layer\n",
    "    W_fc1 = weight_variable([7 * 7 * 64, 1024], name=\"weight\")\n",
    "    b_fc1 = bias_variable([1024], name=\"bias\")\n",
    "    #   Connect output of pooling layer 2 as input to full connected layer\n",
    "    h_pool2_flat = tf.reshape(h_pool2, [-1, 7*7*64])\n",
    "    h_fc1 = tf.nn.relu(tf.matmul(h_pool2_flat, W_fc1) + b_fc1, name=\"relu\")"
   ]
  },
  {
   "cell_type": "code",
   "execution_count": 11,
   "metadata": {},
   "outputs": [],
   "source": [
    "# dropout some neurons to reduce overfitting\n",
    "keep_prob = tf.placeholder(tf.float32, name=\"keep_prob\")  # get dropout probability as a training input.\n",
    "h_fc1_drop = tf.nn.dropout(h_fc1, keep_prob)"
   ]
  },
  {
   "cell_type": "code",
   "execution_count": 12,
   "metadata": {},
   "outputs": [],
   "source": [
    "with tf.name_scope(\"Readout\"):\n",
    "# Readout layer\n",
    "    W_fc2 = weight_variable([1024, 10], name=\"weight\")\n",
    "    b_fc2 = bias_variable([10], name=\"bias\")"
   ]
  },
  {
   "cell_type": "code",
   "execution_count": 13,
   "metadata": {},
   "outputs": [
    {
     "name": "stdout",
     "output_type": "stream",
     "text": [
      "WARNING:tensorflow:From <ipython-input-13-32a20a3b3ff3>:3: softmax_cross_entropy_with_logits (from tensorflow.python.ops.nn_ops) is deprecated and will be removed in a future version.\n",
      "Instructions for updating:\n",
      "\n",
      "Future major versions of TensorFlow will allow gradients to flow\n",
      "into the labels input on backprop by default.\n",
      "\n",
      "See tf.nn.softmax_cross_entropy_with_logits_v2.\n",
      "\n"
     ]
    }
   ],
   "source": [
    "y_conv = tf.matmul(h_fc1_drop, W_fc2) + b_fc2\n",
    "with tf.name_scope(\"cross_entropy\"):\n",
    "    cross_entropy = tf.reduce_mean(tf.nn.softmax_cross_entropy_with_logits(logits=y_conv, labels=y_))"
   ]
  },
  {
   "cell_type": "code",
   "execution_count": 14,
   "metadata": {},
   "outputs": [],
   "source": [
    "with tf.name_scope(\"loss_optimizer\"):\n",
    "    train_step = tf.train.AdamOptimizer(1e-4).minimize(cross_entropy)"
   ]
  },
  {
   "cell_type": "code",
   "execution_count": 15,
   "metadata": {},
   "outputs": [],
   "source": [
    "with tf.name_scope(\"accuracy\"):\n",
    "    correct_prediction = tf.equal(tf.argmax(y_conv,1), tf.argmax(y_,1))\n",
    "    accuracy = tf.reduce_mean(tf.cast(correct_prediction, tf.float32))"
   ]
  },
  {
   "cell_type": "code",
   "execution_count": 16,
   "metadata": {},
   "outputs": [],
   "source": [
    "tf.summary.scalar(\"cross_entropy_scl\", cross_entropy)\n",
    "tf.summary.scalar(\"training_accuracy\", accuracy)\n",
    "\n",
    "summarize_all = tf.summary.merge_all()"
   ]
  },
  {
   "cell_type": "code",
   "execution_count": 17,
   "metadata": {},
   "outputs": [],
   "source": [
    "# Initialize all of the variables\n",
    "sess.run(tf.global_variables_initializer())\n",
    "\n",
    "tbWriter = tf.summary.FileWriter(logPath, sess.graph)"
   ]
  },
  {
   "cell_type": "code",
   "execution_count": 18,
   "metadata": {},
   "outputs": [
    {
     "name": "stdout",
     "output_type": "stream",
     "text": [
      "step 0, elapsed time 0.34 seconds, training accuracy 14.000%\n",
      "step 100, elapsed time 12.24 seconds, training accuracy 86.000%\n",
      "step 200, elapsed time 24.67 seconds, training accuracy 92.000%\n",
      "step 300, elapsed time 37.22 seconds, training accuracy 94.000%\n",
      "step 400, elapsed time 49.66 seconds, training accuracy 98.000%\n",
      "step 500, elapsed time 61.65 seconds, training accuracy 92.000%\n",
      "step 600, elapsed time 74.24 seconds, training accuracy 98.000%\n",
      "step 700, elapsed time 86.23 seconds, training accuracy 92.000%\n",
      "step 800, elapsed time 97.87 seconds, training accuracy 96.000%\n",
      "step 900, elapsed time 109.80 seconds, training accuracy 94.000%\n",
      "step 1000, elapsed time 121.45 seconds, training accuracy 96.000%\n",
      "step 1100, elapsed time 133.34 seconds, training accuracy 92.000%\n",
      "step 1200, elapsed time 146.31 seconds, training accuracy 94.000%\n",
      "step 1300, elapsed time 157.97 seconds, training accuracy 98.000%\n",
      "step 1400, elapsed time 169.77 seconds, training accuracy 98.000%\n",
      "step 1500, elapsed time 181.32 seconds, training accuracy 98.000%\n",
      "step 1600, elapsed time 193.13 seconds, training accuracy 100.000%\n",
      "step 1700, elapsed time 204.82 seconds, training accuracy 96.000%\n",
      "step 1800, elapsed time 216.50 seconds, training accuracy 90.000%\n",
      "step 1900, elapsed time 228.16 seconds, training accuracy 100.000%\n"
     ]
    }
   ],
   "source": [
    "import time\n",
    "\n",
    "num_steps = 2000\n",
    "display_every = 100\n",
    "\n",
    "start_time = time.time()\n",
    "end_time = time.time()\n",
    "for i in range(num_steps):\n",
    "    batch = mnist.train.next_batch(50)\n",
    "    _, summary = sess.run([train_step, summarize_all], feed_dict={x: batch[0], y_: batch[1], keep_prob: 0.5})\n",
    "\n",
    "    # Periodic status display\n",
    "    if i%display_every == 0:\n",
    "        train_accuracy = accuracy.eval(feed_dict={\n",
    "            x:batch[0], y_: batch[1], keep_prob: 1.0})\n",
    "        end_time = time.time()\n",
    "        print(\"step {0}, elapsed time {1:.2f} seconds, training accuracy {2:.3f}%\".format(i, end_time-start_time, train_accuracy*100.0))\n",
    "        # write summary to log\n",
    "        tbWriter.add_summary(summary,i)\n",
    "\n",
    "end_time = time.time()"
   ]
  },
  {
   "cell_type": "code",
   "execution_count": 19,
   "metadata": {},
   "outputs": [
    {
     "name": "stdout",
     "output_type": "stream",
     "text": [
      "Total training time for 2000 batches: 239.68 seconds\n",
      "Test accuracy 97.780%\n"
     ]
    }
   ],
   "source": [
    "print(\"Total training time for {0} batches: {1:.2f} seconds\".format(i+1, end_time-start_time))\n",
    "print(\"Test accuracy {0:.3f}%\".format(accuracy.eval(feed_dict={\n",
    "    x: mnist.test.images, y_: mnist.test.labels, keep_prob: 1.0})*100.0))"
   ]
  },
  {
   "cell_type": "code",
   "execution_count": null,
   "metadata": {},
   "outputs": [],
   "source": []
  }
 ],
 "metadata": {
  "kernelspec": {
   "display_name": "Python 3",
   "language": "python",
   "name": "python3"
  },
  "language_info": {
   "codemirror_mode": {
    "name": "ipython",
    "version": 3
   },
   "file_extension": ".py",
   "mimetype": "text/x-python",
   "name": "python",
   "nbconvert_exporter": "python",
   "pygments_lexer": "ipython3",
   "version": "3.6.2"
  }
 },
 "nbformat": 4,
 "nbformat_minor": 2
}
